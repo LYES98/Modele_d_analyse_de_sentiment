{
 "cells": [
  {
   "cell_type": "code",
   "execution_count": 41,
   "id": "dfc848cb-2211-4343-85d6-01ab0fe51a66",
   "metadata": {},
   "outputs": [],
   "source": [
    "# importer les modules \n",
    "from transformers import AutoTokenizer, AutoModelForSequenceClassification\n",
    "import torch\n",
    "import requests\n",
    "import lxml.html as lh\n",
    "import pandas as pd\n",
    "import numpy as np\n",
    "import re\n",
    "import json\n",
    "from bs4 import BeautifulSoup"
   ]
  },
  {
   "cell_type": "code",
   "execution_count": 42,
   "id": "cf7f8382-43f1-414e-9a4c-874549cf9d12",
   "metadata": {},
   "outputs": [],
   "source": [
    "# tokeniseur pré-entraîné sur plusieurs langues\n",
    "tokenizer = AutoTokenizer.from_pretrained('nlptown/bert-base-multilingual-uncased-sentiment')\n",
    "# modèle de classification de séquences en plusieurs langues\n",
    "model = AutoModelForSequenceClassification.from_pretrained('nlptown/bert-base-multilingual-uncased-sentiment')"
   ]
  },
  {
   "cell_type": "code",
   "execution_count": 69,
   "id": "584026d6-023e-4555-8fe3-9f084a2a4255",
   "metadata": {},
   "outputs": [],
   "source": [
    "# URL Allociné du film Inception\n",
    "url = 'https://www.allocine.fr/film/fichefilm-143692/critiques/spectateurs/'\n",
    "# Chaîne à ajouter à l'URL pour la pagination\n",
    "uri_pages = '?page='\n",
    "# Nombre de pages à récupérer \n",
    "nb_pages = 135\n",
    "# Liste des chemins XPath \n",
    "chemins = ['//span[@class=\"stareval-note\"]', \\ # note de l'avis\n",
    "'//div[@class=\"content-txt review-card-content\"]' ] # texte de l'avis\n",
    "\n",
    "\n",
    "\n",
    "# Liste des noms de colonnes pour les données extraites\n",
    "colonnes = ['Note', 'Description']\n",
    "\n",
    "\n",
    "def recuperer_page(url): # récupérer le contenu d'une pages \n",
    "  page = requests.get(url)\n",
    "  page.encoding = 'utf-8'\n",
    "  soup = BeautifulSoup(page.content, 'lxml')\n",
    "\n",
    "  content = []\n",
    "  # Extraction des données en utilisant les méthodes de BeautifulSoup\n",
    "  for tag in chemins:\n",
    "    elements = soup.select(tag)\n",
    "    content.append([element.text.strip() for element in elements]) \n",
    "\n",
    "  # Création d'une liste de dictionnaires à partir des données extraites\n",
    "  avis = []\n",
    "  for i in range(len(content[0])):\n",
    "    # Création d'un dictionnaire pour chaque avis\n",
    "    review = dict(zip(colonnes, [content[j][i] for j in range(len(content))]))\n",
    "    avis.append(review)\n",
    "  return avis\n",
    "\n",
    "\n",
    "def recuperer_toutes_pages(nb_pages, url): # récupérer le contenu de toutes les pages\n",
    "  critiques = []\n",
    "  for i in range(nb_pages):\n",
    "    url_page = url + uri_pages + str(i + 1)\n",
    "    critiques.extend(recuperer_page(url_page))\n",
    "  return critiques # renvoie la liste des pages récupérées \n",
    "\n",
    "\n",
    "# Récupération de toutes les critiques\n",
    "avis = recuperer_toutes_pages(nb_pages, url)\n",
    "\n",
    "# Enregistrement des critiques dans un fichier JSON\n",
    "with open('avis.json', 'w', encoding='utf-8') as fichier:\n",
    "  # `ensure_ascii=False` permet de conserver les caractères non-ASCII\n",
    "  json.dump(avis, fichier, ensure_ascii=False)"
   ]
  },
  {
   "cell_type": "code",
   "execution_count": 30,
   "id": "a2bf2efa-3c8a-42e7-bdaf-c6e2a92888b2",
   "metadata": {},
   "outputs": [
    {
     "name": "stdout",
     "output_type": "stream",
     "text": [
      "                                            Description\n",
      "0     Après avoir vu ce fameux Oppenheimer en 70mm :...\n",
      "1     3,25/5. J'ai du mal à comprendre certains supe...\n",
      "2     Avec Oppenheimer, Christopher Nolan nous proje...\n",
      "3     Beaucoup, beaucoup, beaucoup de dialogues.Beau...\n",
      "4     Fait rarissime, j'ai quitté la salle au bout d...\n",
      "...                                                 ...\n",
      "3867  Film largement surcoté tout comme ce realisate...\n",
      "3868  Incroyable du grand Nolan.Il arrive toujours à...\n",
      "3869  Je trouve le film sauvé par la prestation de M...\n",
      "3870  Film un peu long, surtout à la fin de la premi...\n",
      "3871  C'est une claque. Le film est long, il peut né...\n",
      "\n",
      "[3872 rows x 1 columns]\n"
     ]
    }
   ],
   "source": [
    "# lire le fichier JSON contenant les critiques\n",
    "with open(\"avis.json\", 'r') as f:\n",
    "  json_data = json.load(f)\n",
    "\n",
    "# Convertir les données JSON en DataFrame\n",
    "df = pd.DataFrame(json_data)\n",
    "\n",
    "# afficher le DataFrame\n",
    "print(df)"
   ]
  },
  {
   "cell_type": "code",
   "execution_count": 31,
   "id": "a782cb31-9e86-4dd3-8b90-614c3d8f6ce7",
   "metadata": {},
   "outputs": [],
   "source": [
    "# convertir le DataFrame en un tableau array\n",
    "df = pd.DataFrame(np.array(df), columns=['Description']) "
   ]
  },
  {
   "cell_type": "code",
   "execution_count": 35,
   "id": "145ab6b6-84d3-4857-b69f-5c8bb2b2e665",
   "metadata": {},
   "outputs": [
    {
     "data": {
      "text/plain": [
       "'3,25/5. J\\'ai du mal à comprendre certains superlatifs à propos de ce film et, à ce titre, je m\\'attendais à quand même mieux. Pourtant, je ne suis pas surpris : c\\'est un biopic, et comme souvent dans les biopics, on tourne beaucoup autour des relations individuelles de l\\'intéressé, ce qui se traduit par d\\'innombrables scènes de dialogues. Ce film ne fait pas exception, au moins 2h30 des 2h50 du film nous montrent des séquences de dialogues entre individus en milieux clos. Dans des salles diverses, lieux d\\'études, bureaux, au parlement, entre deux arbres, en voiture... Il y a bien quelques brefs plans de l\\'immensité du désert pour planter le lieu de l\\'opération Manhattan, et une minute d\\'explosion nucléaire. Insuffisant à mon goût pour trois heures que j\\'ai trouvées un petit peu longues dans l\\'absolu. Autre conséquence également : n\\'allez pas voir ce film en IMAX ou je ne sais quelle salle fabuleusement extraordinaire. Il n\\'y a quasiment aucun intérêt au regard des images qui sont correctes, mais qui n\\'ont rien de suffisamment extraordinaire pour mériter quelque louange que ce soit. Nous sommes à mille lieues des films visuellement frapadingues de Nolan que son Inception, Interstellar voire ses Batman 2 et 3. De son côté, la musique omniprésente est plutôt adaptée à l\\'accompagnement des images, mais n\\'est pas transcendante. Je n\\'y ai pas accordé un grand intérêt. Les prestations sont quant à elles excellentes. Dans l\\'ensemble, je n\\'ai ressenti que peu d\\'émotion. Les questions liées aux penchants communistes de Oppenheimer ne m\\'ont pas fascinées : le film ressemblait à ces nombreux films politiques basées sur les intérêts, les rancœurs ou les opinions de ses personnalités sur qui les autorités enquêtent et qui se retrouvent mêlés à des scandales dont ils doivent se justifier devant un parterre de journalistes... Film comparable à une sorte de \"JFK\" de Stone, par exemple : intéressant, mais très bavard et dans un registre similaire.'"
      ]
     },
     "execution_count": 35,
     "metadata": {},
     "output_type": "execute_result"
    }
   ],
   "source": [
    "# séléctionner la première ligne de la colonne Description\n",
    "df['Description'].iloc[1]  "
   ]
  },
  {
   "cell_type": "code",
   "execution_count": 36,
   "id": "fee9f0e8-06e2-4300-88cf-b1a0cb4b3f3f",
   "metadata": {},
   "outputs": [],
   "source": [
    "def sentiment_score(avis):\n",
    "    # tokeniser, vectoriser et renvoyer un tensor PyTorch\n",
    "    tokens = tokenizer.encode(avis, return_tensors='pt')\n",
    "    resultat = model(tokens) # appliquer le modèle aux avis \n",
    "    return int(torch.argmax(resultat.logits))+1 # renvoyer un nombre entier entre 1 et 5 "
   ]
  },
  {
   "cell_type": "code",
   "execution_count": 37,
   "id": "74d6c818-c764-4d6d-8487-31695a14833b",
   "metadata": {},
   "outputs": [
    {
     "data": {
      "text/plain": [
       "3"
      ]
     },
     "execution_count": 37,
     "metadata": {},
     "output_type": "execute_result"
    }
   ],
   "source": [
    "# appliquer la fonction sentiment_score sur le premier avis\n",
    "sentiment_score(df['Description'].iloc[0]) "
   ]
  },
  {
   "cell_type": "code",
   "execution_count": 38,
   "id": "57320720-6325-4f14-b9d4-2b82a6f3cb7f",
   "metadata": {},
   "outputs": [],
   "source": [
    "# créer une nouvelle colonnes 'sentiment' qui contient le sentiment_score de chaque avis\n",
    "df['sentiment'] = df['Description'].apply(lambda x: sentiment_score(x[:512])) "
   ]
  },
  {
   "cell_type": "code",
   "execution_count": 27,
   "id": "aa0606ff-dc2a-4e91-8633-38419a49fa02",
   "metadata": {},
   "outputs": [
    {
     "data": {
      "text/html": [
       "<div>\n",
       "<style scoped>\n",
       "    .dataframe tbody tr th:only-of-type {\n",
       "        vertical-align: middle;\n",
       "    }\n",
       "\n",
       "    .dataframe tbody tr th {\n",
       "        vertical-align: top;\n",
       "    }\n",
       "\n",
       "    .dataframe thead th {\n",
       "        text-align: right;\n",
       "    }\n",
       "</style>\n",
       "<table border=\"1\" class=\"dataframe\">\n",
       "  <thead>\n",
       "    <tr style=\"text-align: right;\">\n",
       "      <th></th>\n",
       "      <th>Description</th>\n",
       "      <th>sentiment</th>\n",
       "    </tr>\n",
       "  </thead>\n",
       "  <tbody>\n",
       "    <tr>\n",
       "      <th>0</th>\n",
       "      <td>Il serait difficile de mettre moins de 3 étoil...</td>\n",
       "      <td>3</td>\n",
       "    </tr>\n",
       "    <tr>\n",
       "      <th>1</th>\n",
       "      <td>impossible de mettre une mauvaise note car vis...</td>\n",
       "      <td>2</td>\n",
       "    </tr>\n",
       "    <tr>\n",
       "      <th>2</th>\n",
       "      <td>Enfin de retour sur Pandora treize ans après l...</td>\n",
       "      <td>4</td>\n",
       "    </tr>\n",
       "    <tr>\n",
       "      <th>3</th>\n",
       "      <td>Qualité constante chez Cameron, celle de dépas...</td>\n",
       "      <td>4</td>\n",
       "    </tr>\n",
       "    <tr>\n",
       "      <th>4</th>\n",
       "      <td>On nous a promit que les leçons du 1er film on...</td>\n",
       "      <td>2</td>\n",
       "    </tr>\n",
       "    <tr>\n",
       "      <th>...</th>\n",
       "      <td>...</td>\n",
       "      <td>...</td>\n",
       "    </tr>\n",
       "    <tr>\n",
       "      <th>5995</th>\n",
       "      <td>Ce film est magnifique, bien qu’il soit long n...</td>\n",
       "      <td>5</td>\n",
       "    </tr>\n",
       "    <tr>\n",
       "      <th>5996</th>\n",
       "      <td>A VOIR POUR LE PLAISIR DES YEUXJe ne regrette ...</td>\n",
       "      <td>3</td>\n",
       "    </tr>\n",
       "    <tr>\n",
       "      <th>5997</th>\n",
       "      <td>Pour ma première critique, ce sera donc Avatar...</td>\n",
       "      <td>1</td>\n",
       "    </tr>\n",
       "    <tr>\n",
       "      <th>5998</th>\n",
       "      <td>Mise à part qualité de l’image le film est pla...</td>\n",
       "      <td>2</td>\n",
       "    </tr>\n",
       "    <tr>\n",
       "      <th>5999</th>\n",
       "      <td>Le film pourrait être bien si on n'avait pas à...</td>\n",
       "      <td>2</td>\n",
       "    </tr>\n",
       "  </tbody>\n",
       "</table>\n",
       "<p>6000 rows × 2 columns</p>\n",
       "</div>"
      ],
      "text/plain": [
       "                                            Description  sentiment\n",
       "0     Il serait difficile de mettre moins de 3 étoil...          3\n",
       "1     impossible de mettre une mauvaise note car vis...          2\n",
       "2     Enfin de retour sur Pandora treize ans après l...          4\n",
       "3     Qualité constante chez Cameron, celle de dépas...          4\n",
       "4     On nous a promit que les leçons du 1er film on...          2\n",
       "...                                                 ...        ...\n",
       "5995  Ce film est magnifique, bien qu’il soit long n...          5\n",
       "5996  A VOIR POUR LE PLAISIR DES YEUXJe ne regrette ...          3\n",
       "5997  Pour ma première critique, ce sera donc Avatar...          1\n",
       "5998  Mise à part qualité de l’image le film est pla...          2\n",
       "5999  Le film pourrait être bien si on n'avait pas à...          2\n",
       "\n",
       "[6000 rows x 2 columns]"
      ]
     },
     "execution_count": 27,
     "metadata": {},
     "output_type": "execute_result"
    }
   ],
   "source": [
    "df"
   ]
  },
  {
   "cell_type": "code",
   "execution_count": null,
   "id": "baf05a84-b874-4573-92a7-6cc083773e0f",
   "metadata": {},
   "outputs": [],
   "source": []
  },
  {
   "cell_type": "code",
   "execution_count": null,
   "id": "2afd910b-5e1f-4a1b-82de-f655e7c39b04",
   "metadata": {},
   "outputs": [],
   "source": []
  },
  {
   "cell_type": "code",
   "execution_count": null,
   "id": "f84536ed-2e9a-4846-b591-50c5aa056ad9",
   "metadata": {},
   "outputs": [],
   "source": []
  }
 ],
 "metadata": {
  "kernelspec": {
   "display_name": "Python 3 (ipykernel)",
   "language": "python",
   "name": "python3"
  },
  "language_info": {
   "codemirror_mode": {
    "name": "ipython",
    "version": 3
   },
   "file_extension": ".py",
   "mimetype": "text/x-python",
   "name": "python",
   "nbconvert_exporter": "python",
   "pygments_lexer": "ipython3",
   "version": "3.11.5"
  }
 },
 "nbformat": 4,
 "nbformat_minor": 5
}
